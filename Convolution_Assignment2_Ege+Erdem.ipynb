{
 "cells": [
  {
   "cell_type": "markdown",
   "metadata": {},
   "source": [
    "# Convolution Implementation"
   ]
  },
  {
   "cell_type": "markdown",
   "metadata": {},
   "source": [
    "Input matrix is not necessarily be a square matrix, you can use w != h sized matrices as well\n",
    "Again, I used assertion errors to show size/shape incompatibility"
   ]
  },
  {
   "cell_type": "code",
   "execution_count": 35,
   "metadata": {},
   "outputs": [
    {
     "name": "stdout",
     "output_type": "stream",
     "text": [
      "input = \n",
      " [[ 7 12 14  5  9  0]\n",
      " [ 6  4 14 10 10 14]\n",
      " [ 6  6  1  5  3  4]\n",
      " [12  1 13  6  5  2]\n",
      " [ 8  0  9 13  7 11]\n",
      " [ 3  9  6  1  8  4]]\n",
      "filter =\n",
      " [[2 0]\n",
      " [1 0]]\n"
     ]
    }
   ],
   "source": [
    "import numpy as np\n",
    "\n",
    "input=np.random.randint(15, size=(6, 6))\n",
    "\n",
    "filter=np.array([[2,0],[1,0]])\n",
    "\n",
    "print(\"input = \\n\", input)\n",
    "print(\"filter =\\n\",filter)"
   ]
  },
  {
   "cell_type": "code",
   "execution_count": 45,
   "metadata": {},
   "outputs": [
    {
     "name": "stdout",
     "output_type": "stream",
     "text": [
      "\n",
      "stride =  2\n",
      "\n",
      "filter size = 2 x 2\n",
      "\n",
      "Pooling Applied Output =\n",
      " [[20 42 28]\n",
      " [24 15 11]\n",
      " [19 24 22]]\n"
     ]
    }
   ],
   "source": [
    "\n",
    "h = input.shape[0]  # hight of the input matrix\n",
    "w = input.shape[1]  # width of the input matrix \n",
    "\n",
    "stride = 2 \n",
    "filtersize = filter.shape[0]\n",
    "ConvRow=[]\n",
    "p = 2\n",
    "\n",
    "assert (h-filtersize) % stride == 0, \"specified stride can not be applied to your input height, redefine your input/stride or do a padding beforehand \"\n",
    "assert (w-filtersize) % stride == 0, \"specified stride can not be applied to your input width, redefine your input/stride or do a padding beforehand \"\n",
    "\n",
    "def convolution(A, f, s, padding=False):\n",
    "    \n",
    "    for i in range(0,h-f+1,s):\n",
    "        for j in range(0,w-f+1,s):\n",
    "\n",
    "            submatrix = A[np.ix_([i,i+f-1],[j,j+f-1])]\n",
    "            subrow = submatrix.reshape(-1)  \n",
    "            #print(a)\n",
    "            ConvRow.append(np.sum(subrow*filter.reshape(1,filter.size)))\n",
    "            ConvArray = np.array(ConvRow)\n",
    "            \n",
    "    Convolution=ConvArray.reshape(int((h-f)/s+1),int((w-f)/s+1))\n",
    "    \n",
    "    return(Convolution)\n",
    "\n",
    "output = convolution(input, filtersize, stride, padding=False)\n",
    "\n",
    "print(\"\\nstride = \", stride)\n",
    "print(\"\\nfilter size = %d x %d\" % (filtersize, filtersize))\n",
    "\n",
    "print(\"\\nPooling Applied Output =\\n\", output)\n",
    "\n"
   ]
  },
  {
   "cell_type": "code",
   "execution_count": null,
   "metadata": {},
   "outputs": [],
   "source": []
  },
  {
   "cell_type": "code",
   "execution_count": null,
   "metadata": {},
   "outputs": [],
   "source": []
  },
  {
   "cell_type": "code",
   "execution_count": null,
   "metadata": {},
   "outputs": [],
   "source": []
  },
  {
   "cell_type": "code",
   "execution_count": null,
   "metadata": {
    "collapsed": true
   },
   "outputs": [],
   "source": []
  }
 ],
 "metadata": {
  "kernelspec": {
   "display_name": "Python 3",
   "language": "python",
   "name": "python3"
  },
  "language_info": {
   "codemirror_mode": {
    "name": "ipython",
    "version": 3
   },
   "file_extension": ".py",
   "mimetype": "text/x-python",
   "name": "python",
   "nbconvert_exporter": "python",
   "pygments_lexer": "ipython3",
   "version": "3.6.3"
  }
 },
 "nbformat": 4,
 "nbformat_minor": 2
}
