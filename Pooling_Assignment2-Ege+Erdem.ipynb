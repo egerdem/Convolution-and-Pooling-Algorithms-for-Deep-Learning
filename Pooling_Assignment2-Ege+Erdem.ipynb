{
 "cells": [
  {
   "cell_type": "markdown",
   "metadata": {},
   "source": [
    "# Pooling Implementation"
   ]
  },
  {
   "cell_type": "markdown",
   "metadata": {},
   "source": [
    "I wrote this question's codes completely on my own. To demonstrate the operation easily, currently it takes a 2D matrix with any shape and applying a pooling operation with a user specified pooling size and the stride. One can easily increase channel and the depth by changing input data size and update the indices at the pooling operation line which is basically done in only one line.\n",
    "\n",
    "* Input matrix is not necessarily be a square matrix, you can use w != h sized matrices as well, as shown below\n",
    "* I used assertion errors to show size/shape incompatibility"
   ]
  },
  {
   "cell_type": "code",
   "execution_count": 47,
   "metadata": {},
   "outputs": [
    {
     "name": "stdout",
     "output_type": "stream",
     "text": [
      "input = \n",
      " [[14 25 13 13 15 15  1]\n",
      " [ 9 27  8  0 15 13 20]\n",
      " [ 2 20 19  5  8 22 22]\n",
      " [19  7  4 11  2 19 10]]\n"
     ]
    }
   ],
   "source": [
    "import numpy as np\n",
    "import nbconvert\n",
    "\n",
    "#define your input data/image matrices\n",
    "input=np.random.randint(28, size=(4, 7))  \n",
    "\n",
    "print(\"input = \\n\", input)\n",
    "\n",
    "poolsize=2 "
   ]
  },
  {
   "cell_type": "code",
   "execution_count": 48,
   "metadata": {},
   "outputs": [
    {
     "name": "stdout",
     "output_type": "stream",
     "text": [
      "no padding\n",
      "\n",
      "Pooling Applied Output =\n",
      " [[27 27 13 15 15 20]\n",
      " [27 27 19 15 22 22]\n",
      " [20 20 19 11 22 22]]\n"
     ]
    }
   ],
   "source": [
    "# N, C, h, w = input.shape  \n",
    "# one can use the above definition if increase the input size, rather than define the size parameters seperately\n",
    "\n",
    "h = input.shape[0]  # hight of the input matrix\n",
    "w = input.shape[1]  # width of the input matrix \n",
    "\n",
    "stride = 1 #stride\n",
    "\n",
    "pooled=[]\n",
    "\n",
    "assert (h-poolsize) % stride == 0, \"specified stride can not be applied to your input height, redefine your input/stride or do a padding beforehand \"\n",
    "assert (w-poolsize) % stride == 0, \"specified stride can not be applied to your input width, redefine your input/stride or do a padding beforehand \"\n",
    "\n",
    "def pooling(A, p, s, padding=False):\n",
    "    \n",
    "    if not padding:\n",
    "        print('no padding')\n",
    "        for i in range(0,h-p+1,s):\n",
    "            for j in range(0,w-p+1,s):\n",
    "                \n",
    "                pooled.append(np.amax(A[np.ix_([i,i+p-1],[j,j+p-1])]))\n",
    "                pp = np.array(pooled)\n",
    "        result=pp.reshape(int((h-p)/s+1),int((w-p)/s+1))\n",
    "    return(result)\n",
    "\n",
    "output = pooling(input,poolsize,stride)\n",
    "\n",
    "print(\"\\nPooling Applied Output =\\n\", output)"
   ]
  },
  {
   "cell_type": "code",
   "execution_count": null,
   "metadata": {
    "collapsed": true
   },
   "outputs": [],
   "source": []
  },
  {
   "cell_type": "code",
   "execution_count": null,
   "metadata": {
    "collapsed": true
   },
   "outputs": [],
   "source": []
  },
  {
   "cell_type": "code",
   "execution_count": null,
   "metadata": {
    "collapsed": true
   },
   "outputs": [],
   "source": []
  },
  {
   "cell_type": "code",
   "execution_count": null,
   "metadata": {
    "collapsed": true
   },
   "outputs": [],
   "source": []
  }
 ],
 "metadata": {
  "kernelspec": {
   "display_name": "Python 3",
   "language": "python",
   "name": "python3"
  },
  "language_info": {
   "codemirror_mode": {
    "name": "ipython",
    "version": 3
   },
   "file_extension": ".py",
   "mimetype": "text/x-python",
   "name": "python",
   "nbconvert_exporter": "python",
   "pygments_lexer": "ipython3",
   "version": "3.6.3"
  }
 },
 "nbformat": 4,
 "nbformat_minor": 2
}
